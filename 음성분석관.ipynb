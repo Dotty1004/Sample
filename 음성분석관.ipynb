{
  "nbformat": 4,
  "nbformat_minor": 0,
  "metadata": {
    "colab": {
      "provenance": [],
      "gpuType": "T4",
      "authorship_tag": "ABX9TyNTxRmgGG65qoafpzyZAGoh",
      "include_colab_link": true
    },
    "kernelspec": {
      "name": "python3",
      "display_name": "Python 3"
    },
    "language_info": {
      "name": "python"
    },
    "accelerator": "GPU"
  },
  "cells": [
    {
      "cell_type": "markdown",
      "metadata": {
        "id": "view-in-github",
        "colab_type": "text"
      },
      "source": [
        "<a href=\"https://colab.research.google.com/github/Dotty1004/Sample/blob/main/%EC%9D%8C%EC%84%B1%EB%B6%84%EC%84%9D%EA%B4%80.ipynb\" target=\"_parent\"><img src=\"https://colab.research.google.com/assets/colab-badge.svg\" alt=\"Open In Colab\"/></a>"
      ]
    },
    {
      "cell_type": "code",
      "execution_count": 6,
      "metadata": {
        "id": "U0D3dcgeA59L"
      },
      "outputs": [],
      "source": [
        "# -------------------------------------------------------------------------\n",
        "# 1. 필요한 라이브러리 설치 (GPU 환경에 최적화)\n",
        "# -------------------------------------------------------------------------\n",
        "# %%capture는 설치 과정의 긴 메시지를 숨겨 깔끔하게 보여줍니다.\n",
        "%%capture\n",
        "!pip install faster-whisper\n",
        "!pip install librosa pydub\n",
        "\n",
        "# -------------------------------------------------------------------------\n",
        "# 2. 필요한 기능들 불러오기\n",
        "# -------------------------------------------------------------------------\n",
        "import os\n",
        "import numpy as np\n",
        "import librosa\n",
        "from faster_whisper import WhisperModel\n",
        "import torch\n",
        "from google.colab import files\n",
        "from IPython.display import display, HTML\n",
        "import base64\n",
        "from google.colab import output\n",
        "\n",
        "# -------------------------------------------------------------------------\n",
        "# 3. 음성 분석을 위한 핵심 클래스 정의\n",
        "# -------------------------------------------------------------------------\n",
        "class VoiceFeatureExtractor:\n",
        "    def __init__(self, model_size=\"medium\"):\n",
        "        \"\"\"\n",
        "        분석기 초기화. 오프라인 음성 인식 모델을 로드합니다.\n",
        "        GPU를 사용하므로 'medium' 모델을 사용하여 정확도를 높입니다.\n",
        "        \"\"\"\n",
        "        print(\"=\"*50)\n",
        "        print(\"1. 음성 인식 모델을 로드하는 중입니다...\")\n",
        "        # GPU 사용 설정: device=\"cuda\", compute_type=\"float16\"\n",
        "        self.model = WhisperModel(model_size, device=\"cuda\", compute_type=\"float16\")\n",
        "        print(\"   모델 로드 완료. (모델: {}, 장치: GPU)\".format(model_size))\n",
        "        print(\"=\"*50)\n",
        "\n",
        "    def analyze(self, audio_file_path):\n",
        "        \"\"\"\n",
        "        오디오 파일을 받아 전체 분석을 수행하고 결과를 텍스트로 반환합니다.\n",
        "        \"\"\"\n",
        "        print(f\"\\n2. '{os.path.basename(audio_file_path)}' 파일 분석을 시작합니다...\")\n",
        "\n",
        "        # (1) 음성 파일 로드 및 기본 정보 추출\n",
        "        y, sr = librosa.load(audio_file_path, sr=16000)\n",
        "        duration = librosa.get_duration(y=y, sr=sr)\n",
        "\n",
        "        # (2) 음성 -> 텍스트 변환 (STT) with faster-whisper on GPU\n",
        "        segments, _ = self.model.transcribe(audio_file_path, word_timestamps=True)\n",
        "\n",
        "        words_with_timestamps = []\n",
        "        full_text = \"\"\n",
        "        for segment in segments:\n",
        "            full_text += segment.text\n",
        "            for word in segment.words:\n",
        "                words_with_timestamps.append({'word': word.word.strip().replace(\",\", \"\").replace(\".\", \"\"), 'start': word.start, 'end': word.end})\n",
        "\n",
        "        print(\"   - 음성을 텍스트로 변환 완료.\")\n",
        "\n",
        "        # (3) 음성 특징 추출\n",
        "        word_count = len(words_with_timestamps)\n",
        "        speech_rate_wpm = (word_count / duration) * 60 if duration > 0 else 0\n",
        "\n",
        "        # 음높이(Pitch) 분석\n",
        "        pitches, magnitudes = librosa.piptrack(y=y, sr=sr)\n",
        "        valid_pitches = pitches[magnitudes > np.median(magnitudes)]\n",
        "        pitch_variation_std = np.std(valid_pitches) if len(valid_pitches) > 0 else 0.0\n",
        "\n",
        "        print(\"   - 목소리 특징 추출 완료.\")\n",
        "\n",
        "        # (4) 군말(Filler Words) 분석\n",
        "        filler_words_list = ['아', '음', '그', '이제', '막', '뭐랄까', '사실', '약간', '저기', '근데', '뭔가']\n",
        "        filler_count = 0\n",
        "        found_fillers = []\n",
        "        for word_info in words_with_timestamps:\n",
        "            if word_info['word'] in filler_words_list:\n",
        "                filler_count += 1\n",
        "                found_fillers.append(word_info['word'])\n",
        "\n",
        "        filler_ratio = (filler_count / word_count) * 100 if word_count > 0 else 0\n",
        "\n",
        "        print(\"   - 언어 습관 분석 완료.\")\n",
        "        print(\"\\n3. 모든 분석이 완료되었습니다.\")\n",
        "        print(\"=\"*50)\n",
        "\n",
        "\n",
        "        # (5) 결과를 GPT에게 전달할 형식으로 정리\n",
        "        report = f\"\"\"\n",
        "### [음성 분석 데이터]\n",
        "- **전체 발화 내용:** \"{full_text}\"\n",
        "- **음성 길이:** {duration:.2f}초\n",
        "- **발화 속도:** 분당 약 {speech_rate_wpm:.0f} 단어 (WPM)\n",
        "- **억양 변화 수준:** {pitch_variation_std:.2f} (수치가 클수록 다채롭고, 25 미만이면 단조로울 수 있음)\n",
        "- **군말 사용 빈도:** 총 {filler_count}회 사용 (전체 단어의 {filler_ratio:.1f}%)\n",
        "- **주요 군말 리스트:** {', '.join(list(set(found_fillers)))}\n",
        "\"\"\"\n",
        "        return report\n",
        "\n",
        "# -------------------------------------------------------------------------\n",
        "# 4. 실제 프로그램 실행 부분\n",
        "# -------------------------------------------------------------------------\n",
        "def run_analysis_on_upload(file_contents, filename):\n",
        "    # (1) 분석기 생성\n",
        "    extractor = VoiceFeatureExtractor(model_size=\"medium\")\n",
        "\n",
        "    # (2) 임시 파일로 저장\n",
        "    with open(filename, \"wb\") as f:\n",
        "        f.write(file_contents)\n",
        "\n",
        "    # (3) 분석 실행 및 결과 출력\n",
        "    analysis_report = extractor.analyze(filename)\n",
        "\n",
        "    print(\"\\n\\n✅ 분석 데이터가 생성되었습니다! ✅\")\n",
        "    print(\"아래 [음성 분석 데이터]부터 마지막 줄까지 모두 복사하여,\")\n",
        "    print(\"준비된 GPTs 또는 Gemini 맞춤형 챗봇에 붙여넣고 피드백을 요청하세요.\\n\")\n",
        "    print(\"--- 여기부터 복사하세요 ---\")\n",
        "    print(analysis_report.strip())\n",
        "    print(\"--- 여기까지 복사하세요 ---\")\n",
        "\n",
        "    # 임시 파일 삭제\n",
        "    os.remove(filename)\n",
        "\n",
        "def upload_and_run():\n",
        "    print(\"\\n분석할 MP3, M4A, WAV 파일을 업로드 해주세요.\")\n",
        "    upload_button = \"\"\"\n",
        "    <input type=\"file\" id=\"file_upload\">\n",
        "    <script>\n",
        "      const fileUpload = document.getElementById('file_upload');\n",
        "      fileUpload.addEventListener('change', (event) => {\n",
        "        const file = event.target.files[0];\n",
        "        const reader = new FileReader();\n",
        "        reader.onload = (e) => {\n",
        "          const b64_data = e.target.result.split(',')[1];\n",
        "          google.colab.kernel.invokeFunction('notebook.run_analysis_on_upload', [b64_data, file.name], {});\n",
        "        };\n",
        "        reader.readAsDataURL(file);\n",
        "      });\n",
        "    </script>\n",
        "    \"\"\"\n",
        "    display(HTML(upload_button))\n",
        "\n",
        "    # Register the Python function so it can be called from Javascript\n",
        "    output.register_callback('notebook.run_analysis_on_upload', run_analysis_on_upload_wrapper)\n",
        "\n",
        "def run_analysis_on_upload_wrapper(b64_data, filename):\n",
        "    file_contents = base64.b64decode(b64_data)\n",
        "    run_analysis_on_upload(file_contents, filename)\n",
        "\n",
        "# -------------------------------------------------------------------------\n",
        "# 프로그램 실행\n",
        "# -------------------------------------------------------------------------\n",
        "upload_and_run()"
      ]
    },
    {
      "cell_type": "code",
      "metadata": {
        "colab": {
          "base_uri": "https://localhost:8080/",
          "height": 703
        },
        "id": "3d4ad2b9",
        "outputId": "c73b856b-bd2d-41e9-f862-63b312c8dfdb"
      },
      "source": [
        "upload_and_run()"
      ],
      "execution_count": 7,
      "outputs": [
        {
          "output_type": "stream",
          "name": "stdout",
          "text": [
            "\n",
            "분석할 MP3, M4A, WAV 파일을 업로드 해주세요.\n"
          ]
        },
        {
          "output_type": "display_data",
          "data": {
            "text/plain": [
              "<IPython.core.display.HTML object>"
            ],
            "text/html": [
              "\n",
              "    <input type=\"file\" id=\"file_upload\">\n",
              "    <script>\n",
              "      const fileUpload = document.getElementById('file_upload');\n",
              "      fileUpload.addEventListener('change', (event) => {\n",
              "        const file = event.target.files[0];\n",
              "        const reader = new FileReader();\n",
              "        reader.onload = (e) => {\n",
              "          const b64_data = e.target.result.split(',')[1];\n",
              "          google.colab.kernel.invokeFunction('notebook.run_analysis_on_upload', [b64_data, file.name], {});\n",
              "        };\n",
              "        reader.readAsDataURL(file);\n",
              "      });\n",
              "    </script>\n",
              "    "
            ]
          },
          "metadata": {}
        },
        {
          "output_type": "stream",
          "name": "stdout",
          "text": [
            "==================================================\n",
            "1. 음성 인식 모델을 로드하는 중입니다...\n",
            "   모델 로드 완료. (모델: medium, 장치: GPU)\n",
            "==================================================\n",
            "\n",
            "2. '쿠팡마케팅.m4a' 파일 분석을 시작합니다...\n"
          ]
        },
        {
          "output_type": "stream",
          "name": "stderr",
          "text": [
            "/tmp/ipython-input-3178164168.py:40: UserWarning: PySoundFile failed. Trying audioread instead.\n",
            "  y, sr = librosa.load(audio_file_path, sr=16000)\n",
            "/usr/local/lib/python3.11/dist-packages/librosa/core/audio.py:184: FutureWarning: librosa.core.audio.__audioread_load\n",
            "\tDeprecated as of librosa version 0.10.0.\n",
            "\tIt will be removed in librosa version 1.0.\n",
            "  y, sr_native = __audioread_load(path, offset, duration, dtype)\n"
          ]
        },
        {
          "output_type": "stream",
          "name": "stdout",
          "text": [
            "   - 음성을 텍스트로 변환 완료.\n",
            "   - 목소리 특징 추출 완료.\n",
            "   - 언어 습관 분석 완료.\n",
            "\n",
            "3. 모든 분석이 완료되었습니다.\n",
            "==================================================\n",
            "\n",
            "\n",
            "✅ 분석 데이터가 생성되었습니다! ✅\n",
            "아래 [음성 분석 데이터]부터 마지막 줄까지 모두 복사하여,\n",
            "준비된 GPTs 또는 Gemini 맞춤형 챗봇에 붙여넣고 피드백을 요청하세요.\n",
            "\n",
            "--- 여기부터 복사하세요 ---\n",
            "### [음성 분석 데이터]\n",
            "- **전체 발화 내용:** \" 안녕하세요. 저는 도로시입니다. 모 대학 경영학과를 졸업하고 3년간 디지털 마케팅 분야에서 경험을 쌓아왔습니다. 특히 네이버 쇼핑과 카카오톡 채널을 활용한 퍼포먼스 마케팅 캠페인을 통해서 월 매출 30% 증가라는 성과를 달성하며 데이터 기반 마케팅 역량을 기룰 수 있었고 이 과정에서 고객 여정 분석과 개인화 마케팅의 중요성을 깨달았습니다. 앞으로는 쿠팡의 마케팅 기획팀에서 제가 가진 퍼포먼스 마케팅 경험과 데이터 분석 역량을 활용하여 고객 획득과 리텐션 향상에 기여하고 싶습니다.\"\n",
            "- **음성 길이:** 38.99초\n",
            "- **발화 속도:** 분당 약 100 단어 (WPM)\n",
            "- **억양 변화 수준:** 889.00 (수치가 클수록 다채롭고, 25 미만이면 단조로울 수 있음)\n",
            "- **군말 사용 빈도:** 총 0회 사용 (전체 단어의 0.0%)\n",
            "- **주요 군말 리스트:**\n",
            "--- 여기까지 복사하세요 ---\n"
          ]
        }
      ]
    }
  ]
}